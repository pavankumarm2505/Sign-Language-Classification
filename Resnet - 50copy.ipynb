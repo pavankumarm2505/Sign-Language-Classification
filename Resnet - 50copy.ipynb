{
  "cells": [
    {
      "cell_type": "markdown",
      "id": "43e7400c",
      "metadata": {
        "id": "43e7400c"
      },
      "source": [
        "## Sign Language Detection using Resnet 50"
      ]
    },
    {
      "cell_type": "code",
      "source": [
        "pip install -U scikit-learn"
      ],
      "metadata": {
        "id": "KaeXdqLhVo0T",
        "outputId": "a540b4db-829b-4afe-e57a-2734e80ac03c",
        "colab": {
          "base_uri": "https://localhost:8080/"
        }
      },
      "id": "KaeXdqLhVo0T",
      "execution_count": 42,
      "outputs": [
        {
          "output_type": "stream",
          "name": "stdout",
          "text": [
            "Looking in indexes: https://pypi.org/simple, https://us-python.pkg.dev/colab-wheels/public/simple/\n",
            "Requirement already satisfied: scikit-learn in /usr/local/lib/python3.9/dist-packages (1.2.2)\n",
            "Requirement already satisfied: threadpoolctl>=2.0.0 in /usr/local/lib/python3.9/dist-packages (from scikit-learn) (3.1.0)\n",
            "Requirement already satisfied: scipy>=1.3.2 in /usr/local/lib/python3.9/dist-packages (from scikit-learn) (1.10.1)\n",
            "Requirement already satisfied: numpy>=1.17.3 in /usr/local/lib/python3.9/dist-packages (from scikit-learn) (1.22.4)\n",
            "Requirement already satisfied: joblib>=1.1.1 in /usr/local/lib/python3.9/dist-packages (from scikit-learn) (1.2.0)\n"
          ]
        }
      ]
    },
    {
      "cell_type": "code",
      "source": [
        "import sklearn\n",
        "print(sklearn.__version__)"
      ],
      "metadata": {
        "id": "QVY92gHdv5Te",
        "outputId": "3b335cdd-44af-403c-e4fc-1b922960db3c",
        "colab": {
          "base_uri": "https://localhost:8080/"
        }
      },
      "id": "QVY92gHdv5Te",
      "execution_count": 43,
      "outputs": [
        {
          "output_type": "stream",
          "name": "stdout",
          "text": [
            "1.2.2\n"
          ]
        }
      ]
    },
    {
      "cell_type": "markdown",
      "id": "e20e091d",
      "metadata": {
        "id": "e20e091d"
      },
      "source": [
        "### Import Libraries "
      ]
    },
    {
      "cell_type": "code",
      "execution_count": 62,
      "id": "bbb76f05",
      "metadata": {
        "id": "bbb76f05"
      },
      "outputs": [],
      "source": [
        "import matplotlib.pyplot as plt\n",
        "import numpy as np\n",
        "import PIL\n",
        "import tensorflow as tf\n",
        "import sklearn as sklearn\n",
        "import pandas as pd\n",
        "\n",
        "\n",
        "from tensorflow.keras.models import Sequential\n",
        "from tensorflow.keras.optimizers import RMSprop\n",
        "\n",
        "from keras.models import Model\n",
        "from keras.preprocessing import image\n",
        "%matplotlib inline\n",
        "import os\n",
        "import keras\n",
        "from tensorflow.keras.preprocessing.image import ImageDataGenerator\n",
        "from sklearn.metrics import confusion_matrix, roc_curve\n",
        "from sklearn.metrics import classification_report\n",
        "import seaborn as sns\n",
        "import warnings\n",
        "warnings.filterwarnings('ignore')"
      ]
    },
    {
      "cell_type": "code",
      "execution_count": 63,
      "id": "7302f6bd",
      "metadata": {
        "id": "7302f6bd"
      },
      "outputs": [],
      "source": [
        "from tensorflow.python.keras.layers import Input, Dense, Flatten, Lambda, Dropout"
      ]
    },
    {
      "cell_type": "code",
      "execution_count": 64,
      "id": "dc534655",
      "metadata": {
        "id": "dc534655"
      },
      "outputs": [],
      "source": [
        "# import pathlib\n",
        "# data_dir = \"/content/sign_mnist_test.csv\"\n",
        "# data_dir = pathlib.Path(data_dir)\n",
        "data_df = pd.read_csv('sign_mnist_train.csv')\n",
        "test_df = pd.read_csv('sign_mnist_test.csv')"
      ]
    },
    {
      "cell_type": "code",
      "source": [
        "from keras.utils import to_categorical\n",
        "import cv2\n",
        "X = data_df.iloc[:, 1:].values.reshape(-1, 28, 28, 1)\n",
        "X = [cv2.merge((img, img, img)) for img in X]\n",
        "X = np.array(X)\n",
        "y = data_df.iloc[:, 0].values\n",
        "y = to_categorical(y,num_classes=26)"
      ],
      "metadata": {
        "id": "i7RDt9ry894r"
      },
      "id": "i7RDt9ry894r",
      "execution_count": 65,
      "outputs": []
    },
    {
      "cell_type": "code",
      "source": [
        "X_resized = []\n",
        "for img in X:\n",
        "    img = np.array(img).astype('uint8')\n",
        "    img = PIL.Image.fromarray(img).resize((32, 32))\n",
        "    X_resized.append(np.array(img))\n",
        "X_resized = np.array(X_resized)"
      ],
      "metadata": {
        "id": "N5EbtXImIcLF"
      },
      "id": "N5EbtXImIcLF",
      "execution_count": 66,
      "outputs": []
    },
    {
      "cell_type": "markdown",
      "id": "d2bf2c79",
      "metadata": {
        "id": "d2bf2c79"
      },
      "source": [
        "###  Image Data Augmentation"
      ]
    },
    {
      "cell_type": "markdown",
      "id": "6db30927",
      "metadata": {
        "id": "6db30927"
      },
      "source": [
        "We have implemented Image Augmentation using ImageDataGenerator - an augmented image generator API in Keras. It generates batches of image data with real-time data augmentation. For practical applications we have applied rotation, height/weight shift, zoom, flip and brightness high/low to our training dataset."
      ]
    },
    {
      "cell_type": "code",
      "execution_count": 67,
      "id": "27dc10c9",
      "metadata": {
        "scrolled": true,
        "id": "27dc10c9"
      },
      "outputs": [],
      "source": [
        "# # ImageDataGenerator\n",
        "# datagen = ImageDataGenerator(\n",
        "#     validation_split=0.2,\n",
        "#          rotation_range=10, # rotation\n",
        "#          width_shift_range=0.2, # horizontal shift\n",
        "#          height_shift_range=0.2, # vertical shift\n",
        "#          zoom_range=0.2, # zoom\n",
        "#          horizontal_flip=True, # horizontal flip\n",
        "#          brightness_range=[0.2,1.2]) # brightness\n",
        "\n",
        "\n",
        "# train_ds = datagen.flow_from_dataframe(train_df,\n",
        "#                                            class_mode = 'categorical',\n",
        "#                                            target_size = (180, 180),\n",
        "#                                            batch_size=32,\n",
        "#                                        subset='training',\n",
        "#                                            seed=46)\n",
        "# val_ds = test_datagen.flow_from_dataframe(train_df,\n",
        "#                                      class_mode = 'categorical',\n",
        "#                                      target_size = (180, 180),\n",
        "#                                      batch_size=32,\n",
        "#                                           subset='validation',\n",
        "#                                      seed=46)\n",
        "datagen = ImageDataGenerator(\n",
        "    validation_split=0.2,\n",
        "    rotation_range=10, # rotation\n",
        "    width_shift_range=0.2, # horizontal shift\n",
        "    height_shift_range=0.2, # vertical shift\n",
        "    zoom_range=0.2, # zoom\n",
        "    horizontal_flip=True, # horizontal flip\n",
        "    brightness_range=[0.2,1.2] # brightness\n",
        ")\n",
        "test_datagen=ImageDataGenerator(validation_split=0.2)\n",
        "# Split data into training and validation sets\n",
        "# train_df = data_df.sample(frac=0.8, random_state=42)\n",
        "# val_df = data_df.drop(train_df.index)\n",
        "\n",
        "# # Define data generators for training and validation\n",
        "# train_generator = datagen.flow_from_dataframe(\n",
        "#     dataframe=train_df,\n",
        "#     directory=None,\n",
        "#     x_col='filename',\n",
        "#     y_col='label',\n",
        "#     target_size=(180, 180),\n",
        "#     batch_size=32,\n",
        "#     subset='training'\n",
        "# )\n",
        "\n",
        "# val_generator = datagen.flow_from_dataframe(\n",
        "#     dataframe=val_df,\n",
        "#     directory=None,\n",
        "#     x_col='filename',\n",
        "#     y_col='label',\n",
        "#     target_size=(180, 180),\n",
        "#     batch_size=32,\n",
        "#     subset='validation'\n",
        "# )\n",
        "train_generator = datagen.flow(X_resized, y, batch_size=128, subset='training')\n",
        "val_generator = test_datagen.flow(X_resized, y, batch_size=128, subset='validation')\n",
        "\n"
      ]
    },
    {
      "cell_type": "markdown",
      "id": "c7923555",
      "metadata": {
        "id": "c7923555"
      },
      "source": [
        "Metrics have been removed from Keras core. We need to calculate them manually."
      ]
    },
    {
      "cell_type": "code",
      "execution_count": 68,
      "id": "11d450cf",
      "metadata": {
        "id": "11d450cf"
      },
      "outputs": [],
      "source": [
        "from tensorflow.keras import backend as K\n",
        "def precision(y_true, y_pred):\n",
        "    \"\"\" Precision metric. Only computes a batch-wise average of precision. Computes the precision, a metric for multi-label classification of\n",
        "    how many selected items are relevant.\"\"\"\n",
        "    true_positives = K.sum(K.round(K.clip(y_true * y_pred, 0, 1)))\n",
        "    predicted_positives = K.sum(K.round(K.clip(y_pred, 0, 1)))\n",
        "    precision = true_positives / (predicted_positives + K.epsilon())\n",
        "    return precision\n",
        "\n",
        "def recall(y_true, y_pred):\n",
        "    \"\"\" Recall metric. Only computes a batch-wise average of recall. Computes the recall, a metric for multi-label classification of\n",
        "    how many relevant items are selected. \"\"\"\n",
        "    true_positives = K.sum(K.round(K.clip(y_true * y_pred, 0, 1)))\n",
        "    possible_positives = K.sum(K.round(K.clip(y_true, 0, 1)))\n",
        "    recall = true_positives / (possible_positives + K.epsilon())\n",
        "    return recall\n",
        "\n",
        "def f1(y_true, y_pred):\n",
        "    precision_f = precision(y_true, y_pred)\n",
        "    recall_f = recall(y_true, y_pred)\n",
        "    return 2*((precision_f*recall_f)/(precision_f+recall_f+K.epsilon()))"
      ]
    },
    {
      "cell_type": "markdown",
      "id": "56aaa85c",
      "metadata": {
        "id": "56aaa85c"
      },
      "source": [
        "### Implement the Deep Learning Model - Resnet50"
      ]
    },
    {
      "cell_type": "markdown",
      "id": "2f54a0cc",
      "metadata": {
        "id": "2f54a0cc"
      },
      "source": [
        "ResNet-50 is a convolutional neural network that is 50 layers deep. We can load a pretrained version of the network trained on more than a million images from the ImageNet database."
      ]
    },
    {
      "cell_type": "code",
      "execution_count": 69,
      "id": "c20c7771",
      "metadata": {
        "id": "c20c7771"
      },
      "outputs": [],
      "source": [
        "resnet_model = Sequential()\n",
        "\n",
        "pretrained_model= tf.keras.applications.ResNet50(include_top=False,\n",
        "                   input_shape=(32,32,3),\n",
        "                   pooling='avg', classes=26,\n",
        "                   weights='imagenet')\n",
        "for layer in pretrained_model.layers:\n",
        "        layer.trainable=False\n",
        "\n",
        "resnet_model.add(pretrained_model)"
      ]
    },
    {
      "cell_type": "code",
      "execution_count": 70,
      "id": "1c902c8d",
      "metadata": {
        "id": "1c902c8d"
      },
      "outputs": [],
      "source": [
        "# Fully Connected Layer\n",
        "resnet_model.add(Flatten())\n",
        "resnet_model.add(Dense(512, activation='relu'))\n",
        "resnet_model.add(Dense(26, activation='softmax'))"
      ]
    },
    {
      "cell_type": "code",
      "execution_count": 71,
      "id": "69e50666",
      "metadata": {
        "id": "69e50666",
        "outputId": "e5ffc5ba-0dd4-4b74-9369-4b3e58e83c12",
        "colab": {
          "base_uri": "https://localhost:8080/"
        }
      },
      "outputs": [
        {
          "output_type": "stream",
          "name": "stdout",
          "text": [
            "Model: \"sequential_4\"\n",
            "_________________________________________________________________\n",
            " Layer (type)                Output Shape              Param #   \n",
            "=================================================================\n",
            " resnet50 (Functional)       (None, 2048)              23587712  \n",
            "                                                                 \n",
            " module_wrapper_12 (ModuleWr  (None, 2048)             0         \n",
            " apper)                                                          \n",
            "                                                                 \n",
            " module_wrapper_13 (ModuleWr  (None, 512)              1049088   \n",
            " apper)                                                          \n",
            "                                                                 \n",
            " module_wrapper_14 (ModuleWr  (None, 26)               13338     \n",
            " apper)                                                          \n",
            "                                                                 \n",
            "=================================================================\n",
            "Total params: 24,650,138\n",
            "Trainable params: 1,062,426\n",
            "Non-trainable params: 23,587,712\n",
            "_________________________________________________________________\n",
            "(27455, 28, 28, 3)\n",
            "(27455, 26)\n"
          ]
        }
      ],
      "source": [
        "resnet_model.summary()\n",
        "print(X.shape)\n",
        "print(y.shape)"
      ]
    },
    {
      "cell_type": "code",
      "execution_count": 73,
      "id": "402ae300",
      "metadata": {
        "id": "402ae300",
        "outputId": "0b1215d6-7495-43b8-b58d-76185e5a2d4d",
        "colab": {
          "base_uri": "https://localhost:8080/"
        }
      },
      "outputs": [
        {
          "metadata": {
            "tags": null
          },
          "name": "stderr",
          "output_type": "stream",
          "text": [
            "WARNING:absl:`lr` is deprecated in Keras optimizer, please use `learning_rate` or use the legacy optimizer, e.g.,tf.keras.optimizers.legacy.RMSprop.\n"
          ]
        },
        {
          "output_type": "stream",
          "name": "stdout",
          "text": [
            "Epoch 1/50\n",
            "172/172 [==============================] - 30s 147ms/step - loss: 1.6546 - accuracy: 0.5173 - f1: 0.4917 - precision: 0.6651 - recall: 0.3938 - val_loss: 0.8974 - val_accuracy: 0.6986 - val_f1: 0.6845 - val_precision: 0.7995 - val_recall: 0.5993\n",
            "Epoch 2/50\n",
            "172/172 [==============================] - 20s 113ms/step - loss: 1.0380 - accuracy: 0.6584 - f1: 0.6459 - precision: 0.7646 - recall: 0.5600 - val_loss: 0.6466 - val_accuracy: 0.7851 - val_f1: 0.7621 - val_precision: 0.8627 - val_recall: 0.6832\n",
            "Epoch 3/50\n",
            "172/172 [==============================] - 20s 116ms/step - loss: 0.8662 - accuracy: 0.7104 - f1: 0.7056 - precision: 0.7940 - recall: 0.6355 - val_loss: 0.6072 - val_accuracy: 0.7891 - val_f1: 0.7849 - val_precision: 0.8599 - val_recall: 0.7224\n",
            "Epoch 4/50\n",
            "172/172 [==============================] - 20s 118ms/step - loss: 0.7854 - accuracy: 0.7381 - f1: 0.7360 - precision: 0.8133 - recall: 0.6726 - val_loss: 0.4860 - val_accuracy: 0.8410 - val_f1: 0.8368 - val_precision: 0.8824 - val_recall: 0.7960\n",
            "Epoch 5/50\n",
            "172/172 [==============================] - 21s 123ms/step - loss: 0.7228 - accuracy: 0.7577 - f1: 0.7571 - precision: 0.8227 - recall: 0.7016 - val_loss: 0.5382 - val_accuracy: 0.8121 - val_f1: 0.8112 - val_precision: 0.8549 - val_recall: 0.7722\n",
            "Epoch 6/50\n",
            "172/172 [==============================] - 21s 123ms/step - loss: 0.6902 - accuracy: 0.7705 - f1: 0.7716 - precision: 0.8314 - recall: 0.7202 - val_loss: 0.4180 - val_accuracy: 0.8538 - val_f1: 0.8539 - val_precision: 0.8907 - val_recall: 0.8204\n",
            "Epoch 7/50\n",
            "172/172 [==============================] - 23s 134ms/step - loss: 0.6561 - accuracy: 0.7806 - f1: 0.7835 - precision: 0.8387 - recall: 0.7355 - val_loss: 0.3289 - val_accuracy: 0.8862 - val_f1: 0.8869 - val_precision: 0.9209 - val_recall: 0.8557\n",
            "Epoch 8/50\n",
            "172/172 [==============================] - 22s 127ms/step - loss: 0.6373 - accuracy: 0.7902 - f1: 0.7923 - precision: 0.8424 - recall: 0.7480 - val_loss: 0.3476 - val_accuracy: 0.8809 - val_f1: 0.8812 - val_precision: 0.9163 - val_recall: 0.8490\n",
            "Epoch 9/50\n",
            "172/172 [==============================] - 22s 127ms/step - loss: 0.6091 - accuracy: 0.7968 - f1: 0.7981 - precision: 0.8458 - recall: 0.7559 - val_loss: 0.3287 - val_accuracy: 0.8867 - val_f1: 0.8860 - val_precision: 0.9154 - val_recall: 0.8586\n",
            "Epoch 10/50\n",
            "172/172 [==============================] - 20s 116ms/step - loss: 0.5822 - accuracy: 0.8064 - f1: 0.8077 - precision: 0.8505 - recall: 0.7693 - val_loss: 0.3147 - val_accuracy: 0.8929 - val_f1: 0.8930 - val_precision: 0.9206 - val_recall: 0.8673\n",
            "Epoch 11/50\n",
            "172/172 [==============================] - 24s 142ms/step - loss: 0.5702 - accuracy: 0.8088 - f1: 0.8134 - precision: 0.8555 - recall: 0.7754 - val_loss: 0.3180 - val_accuracy: 0.8904 - val_f1: 0.8917 - val_precision: 0.9159 - val_recall: 0.8688\n",
            "Epoch 12/50\n",
            "172/172 [==============================] - 25s 148ms/step - loss: 0.5408 - accuracy: 0.8174 - f1: 0.8209 - precision: 0.8583 - recall: 0.7868 - val_loss: 0.2711 - val_accuracy: 0.9073 - val_f1: 0.9068 - val_precision: 0.9299 - val_recall: 0.8850\n",
            "Epoch 13/50\n",
            "172/172 [==============================] - 29s 168ms/step - loss: 0.5448 - accuracy: 0.8226 - f1: 0.8240 - precision: 0.8598 - recall: 0.7914 - val_loss: 0.2515 - val_accuracy: 0.9146 - val_f1: 0.9133 - val_precision: 0.9337 - val_recall: 0.8939\n",
            "Epoch 14/50\n",
            "172/172 [==============================] - 21s 122ms/step - loss: 0.5352 - accuracy: 0.8215 - f1: 0.8258 - precision: 0.8630 - recall: 0.7919 - val_loss: 0.2566 - val_accuracy: 0.9150 - val_f1: 0.9148 - val_precision: 0.9316 - val_recall: 0.8988\n",
            "Epoch 15/50\n",
            "172/172 [==============================] - 21s 125ms/step - loss: 0.5224 - accuracy: 0.8287 - f1: 0.8317 - precision: 0.8665 - recall: 0.7999 - val_loss: 0.2457 - val_accuracy: 0.9135 - val_f1: 0.9154 - val_precision: 0.9349 - val_recall: 0.8968\n",
            "Epoch 16/50\n",
            "172/172 [==============================] - 21s 125ms/step - loss: 0.4998 - accuracy: 0.8340 - f1: 0.8354 - precision: 0.8675 - recall: 0.8058 - val_loss: 0.3295 - val_accuracy: 0.8834 - val_f1: 0.8843 - val_precision: 0.8992 - val_recall: 0.8699\n",
            "Epoch 17/50\n",
            "172/172 [==============================] - 20s 117ms/step - loss: 0.4927 - accuracy: 0.8380 - f1: 0.8404 - precision: 0.8712 - recall: 0.8120 - val_loss: 0.2464 - val_accuracy: 0.9095 - val_f1: 0.9104 - val_precision: 0.9287 - val_recall: 0.8929\n",
            "Epoch 18/50\n",
            "172/172 [==============================] - 19s 111ms/step - loss: 0.4904 - accuracy: 0.8416 - f1: 0.8434 - precision: 0.8727 - recall: 0.8162 - val_loss: 0.2557 - val_accuracy: 0.9122 - val_f1: 0.9126 - val_precision: 0.9303 - val_recall: 0.8958\n",
            "Epoch 19/50\n",
            "172/172 [==============================] - 23s 132ms/step - loss: 0.4771 - accuracy: 0.8451 - f1: 0.8479 - precision: 0.8755 - recall: 0.8223 - val_loss: 0.2306 - val_accuracy: 0.9226 - val_f1: 0.9218 - val_precision: 0.9358 - val_recall: 0.9082\n",
            "Epoch 20/50\n",
            "172/172 [==============================] - 20s 114ms/step - loss: 0.4803 - accuracy: 0.8436 - f1: 0.8470 - precision: 0.8735 - recall: 0.8223 - val_loss: 0.2325 - val_accuracy: 0.9190 - val_f1: 0.9184 - val_precision: 0.9342 - val_recall: 0.9033\n",
            "Epoch 21/50\n",
            "172/172 [==============================] - 19s 110ms/step - loss: 0.4790 - accuracy: 0.8457 - f1: 0.8479 - precision: 0.8758 - recall: 0.8219 - val_loss: 0.2590 - val_accuracy: 0.9091 - val_f1: 0.9098 - val_precision: 0.9233 - val_recall: 0.8968\n",
            "Epoch 22/50\n",
            "172/172 [==============================] - 20s 115ms/step - loss: 0.4650 - accuracy: 0.8498 - f1: 0.8531 - precision: 0.8809 - recall: 0.8273 - val_loss: 0.2597 - val_accuracy: 0.9109 - val_f1: 0.9109 - val_precision: 0.9253 - val_recall: 0.8971\n",
            "Epoch 23/50\n",
            "172/172 [==============================] - 19s 113ms/step - loss: 0.4554 - accuracy: 0.8532 - f1: 0.8547 - precision: 0.8807 - recall: 0.8305 - val_loss: 0.3086 - val_accuracy: 0.8880 - val_f1: 0.8917 - val_precision: 0.9076 - val_recall: 0.8765\n",
            "Epoch 24/50\n",
            "172/172 [==============================] - 20s 114ms/step - loss: 0.4596 - accuracy: 0.8538 - f1: 0.8557 - precision: 0.8804 - recall: 0.8325 - val_loss: 0.2727 - val_accuracy: 0.9080 - val_f1: 0.9079 - val_precision: 0.9231 - val_recall: 0.8934\n",
            "Epoch 25/50\n",
            "172/172 [==============================] - 20s 115ms/step - loss: 0.4539 - accuracy: 0.8525 - f1: 0.8556 - precision: 0.8784 - recall: 0.8342 - val_loss: 0.2157 - val_accuracy: 0.9211 - val_f1: 0.9234 - val_precision: 0.9365 - val_recall: 0.9106\n",
            "Epoch 26/50\n",
            "172/172 [==============================] - 19s 111ms/step - loss: 0.4541 - accuracy: 0.8564 - f1: 0.8573 - precision: 0.8818 - recall: 0.8342 - val_loss: 0.2019 - val_accuracy: 0.9328 - val_f1: 0.9318 - val_precision: 0.9405 - val_recall: 0.9233\n",
            "Epoch 27/50\n",
            "172/172 [==============================] - 20s 114ms/step - loss: 0.4489 - accuracy: 0.8574 - f1: 0.8594 - precision: 0.8820 - recall: 0.8382 - val_loss: 0.2096 - val_accuracy: 0.9290 - val_f1: 0.9309 - val_precision: 0.9424 - val_recall: 0.9196\n",
            "Epoch 28/50\n",
            "172/172 [==============================] - 19s 112ms/step - loss: 0.4345 - accuracy: 0.8630 - f1: 0.8659 - precision: 0.8879 - recall: 0.8451 - val_loss: 0.2137 - val_accuracy: 0.9237 - val_f1: 0.9242 - val_precision: 0.9338 - val_recall: 0.9149\n",
            "Epoch 29/50\n",
            "172/172 [==============================] - 19s 112ms/step - loss: 0.4311 - accuracy: 0.8615 - f1: 0.8645 - precision: 0.8861 - recall: 0.8442 - val_loss: 0.2302 - val_accuracy: 0.9202 - val_f1: 0.9207 - val_precision: 0.9319 - val_recall: 0.9100\n",
            "Epoch 30/50\n",
            "172/172 [==============================] - 20s 116ms/step - loss: 0.4405 - accuracy: 0.8615 - f1: 0.8643 - precision: 0.8848 - recall: 0.8448 - val_loss: 0.2004 - val_accuracy: 0.9301 - val_f1: 0.9315 - val_precision: 0.9408 - val_recall: 0.9225\n",
            "Epoch 31/50\n",
            "172/172 [==============================] - 19s 112ms/step - loss: 0.4321 - accuracy: 0.8634 - f1: 0.8664 - precision: 0.8872 - recall: 0.8467 - val_loss: 0.2080 - val_accuracy: 0.9219 - val_f1: 0.9225 - val_precision: 0.9323 - val_recall: 0.9129\n",
            "Epoch 32/50\n",
            "172/172 [==============================] - 19s 112ms/step - loss: 0.4132 - accuracy: 0.8685 - f1: 0.8709 - precision: 0.8899 - recall: 0.8528 - val_loss: 0.2270 - val_accuracy: 0.9230 - val_f1: 0.9227 - val_precision: 0.9315 - val_recall: 0.9140\n",
            "Epoch 33/50\n",
            "172/172 [==============================] - 20s 114ms/step - loss: 0.4186 - accuracy: 0.8690 - f1: 0.8717 - precision: 0.8906 - recall: 0.8537 - val_loss: 0.1932 - val_accuracy: 0.9328 - val_f1: 0.9346 - val_precision: 0.9435 - val_recall: 0.9260\n",
            "Epoch 34/50\n",
            "172/172 [==============================] - 20s 114ms/step - loss: 0.4040 - accuracy: 0.8706 - f1: 0.8739 - precision: 0.8929 - recall: 0.8557 - val_loss: 0.2040 - val_accuracy: 0.9279 - val_f1: 0.9298 - val_precision: 0.9374 - val_recall: 0.9224\n",
            "Epoch 35/50\n",
            "172/172 [==============================] - 19s 110ms/step - loss: 0.4005 - accuracy: 0.8737 - f1: 0.8751 - precision: 0.8936 - recall: 0.8575 - val_loss: 0.2446 - val_accuracy: 0.9230 - val_f1: 0.9237 - val_precision: 0.9320 - val_recall: 0.9155\n",
            "Epoch 36/50\n",
            "172/172 [==============================] - 19s 113ms/step - loss: 0.4101 - accuracy: 0.8722 - f1: 0.8747 - precision: 0.8930 - recall: 0.8572 - val_loss: 0.1888 - val_accuracy: 0.9361 - val_f1: 0.9378 - val_precision: 0.9450 - val_recall: 0.9308\n",
            "Epoch 37/50\n",
            "172/172 [==============================] - 19s 113ms/step - loss: 0.4086 - accuracy: 0.8740 - f1: 0.8777 - precision: 0.8955 - recall: 0.8608 - val_loss: 0.1607 - val_accuracy: 0.9452 - val_f1: 0.9453 - val_precision: 0.9539 - val_recall: 0.9369\n",
            "Epoch 38/50\n",
            "172/172 [==============================] - 19s 112ms/step - loss: 0.4079 - accuracy: 0.8741 - f1: 0.8751 - precision: 0.8923 - recall: 0.8588 - val_loss: 0.1924 - val_accuracy: 0.9350 - val_f1: 0.9358 - val_precision: 0.9456 - val_recall: 0.9263\n",
            "Epoch 39/50\n",
            "172/172 [==============================] - 19s 110ms/step - loss: 0.3999 - accuracy: 0.8734 - f1: 0.8766 - precision: 0.8950 - recall: 0.8591 - val_loss: 0.1966 - val_accuracy: 0.9324 - val_f1: 0.9349 - val_precision: 0.9452 - val_recall: 0.9248\n",
            "Epoch 40/50\n",
            "172/172 [==============================] - 20s 115ms/step - loss: 0.4045 - accuracy: 0.8751 - f1: 0.8778 - precision: 0.8949 - recall: 0.8615 - val_loss: 0.2177 - val_accuracy: 0.9279 - val_f1: 0.9288 - val_precision: 0.9389 - val_recall: 0.9189\n",
            "Epoch 41/50\n",
            "172/172 [==============================] - 20s 113ms/step - loss: 0.4073 - accuracy: 0.8735 - f1: 0.8758 - precision: 0.8925 - recall: 0.8599 - val_loss: 0.2024 - val_accuracy: 0.9363 - val_f1: 0.9362 - val_precision: 0.9449 - val_recall: 0.9277\n",
            "Epoch 42/50\n",
            "172/172 [==============================] - 19s 111ms/step - loss: 0.3960 - accuracy: 0.8783 - f1: 0.8803 - precision: 0.8974 - recall: 0.8640 - val_loss: 0.2193 - val_accuracy: 0.9253 - val_f1: 0.9280 - val_precision: 0.9356 - val_recall: 0.9205\n",
            "Epoch 43/50\n",
            "172/172 [==============================] - 20s 115ms/step - loss: 0.4005 - accuracy: 0.8761 - f1: 0.8791 - precision: 0.8962 - recall: 0.8628 - val_loss: 0.1674 - val_accuracy: 0.9435 - val_f1: 0.9437 - val_precision: 0.9508 - val_recall: 0.9368\n",
            "Epoch 44/50\n",
            "172/172 [==============================] - 20s 115ms/step - loss: 0.3974 - accuracy: 0.8785 - f1: 0.8802 - precision: 0.8955 - recall: 0.8656 - val_loss: 0.1687 - val_accuracy: 0.9425 - val_f1: 0.9446 - val_precision: 0.9522 - val_recall: 0.9373\n",
            "Epoch 45/50\n",
            "172/172 [==============================] - 19s 109ms/step - loss: 0.4082 - accuracy: 0.8775 - f1: 0.8793 - precision: 0.8947 - recall: 0.8645 - val_loss: 0.1723 - val_accuracy: 0.9392 - val_f1: 0.9399 - val_precision: 0.9460 - val_recall: 0.9338\n",
            "Epoch 46/50\n",
            "172/172 [==============================] - 20s 114ms/step - loss: 0.3869 - accuracy: 0.8813 - f1: 0.8829 - precision: 0.8978 - recall: 0.8687 - val_loss: 0.1935 - val_accuracy: 0.9386 - val_f1: 0.9387 - val_precision: 0.9457 - val_recall: 0.9317\n",
            "Epoch 47/50\n",
            "172/172 [==============================] - 20s 114ms/step - loss: 0.3872 - accuracy: 0.8842 - f1: 0.8869 - precision: 0.9012 - recall: 0.8731 - val_loss: 0.1759 - val_accuracy: 0.9408 - val_f1: 0.9417 - val_precision: 0.9480 - val_recall: 0.9355\n",
            "Epoch 48/50\n",
            "172/172 [==============================] - 19s 110ms/step - loss: 0.3984 - accuracy: 0.8822 - f1: 0.8836 - precision: 0.8991 - recall: 0.8687 - val_loss: 0.2061 - val_accuracy: 0.9313 - val_f1: 0.9315 - val_precision: 0.9388 - val_recall: 0.9243\n",
            "Epoch 49/50\n",
            "172/172 [==============================] - 19s 111ms/step - loss: 0.3845 - accuracy: 0.8844 - f1: 0.8874 - precision: 0.9015 - recall: 0.8739 - val_loss: 0.2053 - val_accuracy: 0.9332 - val_f1: 0.9341 - val_precision: 0.9406 - val_recall: 0.9276\n",
            "Epoch 50/50\n",
            "172/172 [==============================] - 20s 114ms/step - loss: 0.3918 - accuracy: 0.8817 - f1: 0.8835 - precision: 0.8975 - recall: 0.8700 - val_loss: 0.1745 - val_accuracy: 0.9404 - val_f1: 0.9410 - val_precision: 0.9492 - val_recall: 0.9329\n"
          ]
        }
      ],
      "source": [
        "resnet_model.compile(optimizer=RMSprop(lr=0.01),loss='categorical_crossentropy', metrics = ['accuracy',f1, precision,recall])\n",
        "\n",
        "history = resnet_model.fit(train_generator, validation_data=val_generator, epochs=50)"
      ]
    },
    {
      "cell_type": "markdown",
      "id": "ade8ffe2",
      "metadata": {
        "id": "ade8ffe2"
      },
      "source": [
        "### Learning Curves - Graphs"
      ]
    },
    {
      "cell_type": "code",
      "source": [
        "tf.keras.utils.plot_model(resnet_model, to_file='model.png', show_shapes=True, show_layer_names=True)"
      ],
      "metadata": {
        "id": "jibHE_vQbYRA",
        "outputId": "beca0a5b-df1c-435e-9795-d4544428a422",
        "colab": {
          "base_uri": "https://localhost:8080/",
          "height": 533
        }
      },
      "id": "jibHE_vQbYRA",
      "execution_count": 74,
      "outputs": [
        {
          "output_type": "execute_result",
          "data": {
            "image/png": "[encoded data removed]",
            "text/plain": [
              "<IPython.core.display.Image object>"
            ]
          },
          "metadata": {},
          "execution_count": 74
        }
      ]
    },
    {
      "cell_type": "code",
      "source": [],
      "metadata": {
        "id": "iw7e1x0PbYIA"
      },
      "id": "iw7e1x0PbYIA",
      "execution_count": null,
      "outputs": []
    },
    {
      "cell_type": "code",
      "source": [
        "\n",
        "import seaborn as sns\n",
        "import matplotlib.pyplot as plt\n",
        "\n",
        "# Get the true labels by iterating over the validation generator\n",
        "val_labels = []\n",
        "for i in range(len(val_generator)):\n",
        "    _, labels = val_generator[i]\n",
        "    val_labels.extend(np.argmax(labels, axis=1))\n",
        "\n",
        "# Get the predicted labels using the trained model\n",
        "Y_pred = resnet_model.predict_generator(val_generator)\n",
        "y_pred = np.argmax(Y_pred, axis=1)\n",
        "\n",
        "# Compute the confusion matrix\n",
        "cf_mat = confusion_matrix(val_labels, y_pred)\n",
        "cf_mat_normalized = cf_mat.astype('float') / cf_mat.sum(axis=1)[:, np.newaxis]\n",
        "\n",
        "# Plot the confusion matrix\n",
        "plt.figure(figsize=(7, 6))\n",
        "sns.heatmap(cf_mat_normalized, cmap=\"Blues\")\n",
        "plt.ylabel('True label')\n",
        "plt.xlabel('Predicted label')\n",
        "plt.show()\n"
      ],
      "metadata": {
        "id": "majFQZmscaNz",
        "outputId": "194e048e-a467-48b9-954c-8884b9ab9768",
        "colab": {
          "base_uri": "https://localhost:8080/",
          "height": 547
        }
      },
      "id": "majFQZmscaNz",
      "execution_count": 75,
      "outputs": [
        {
          "output_type": "display_data",
          "data": {
            "text/plain": [
              "<Figure size 700x600 with 2 Axes>"
            ],
            "image/png": "[encoded data removed]"
          },
          "metadata": {}
        }
      ]
    },
    {
      "cell_type": "code",
      "execution_count": 57,
      "id": "9cd710ec",
      "metadata": {
        "id": "9cd710ec",
        "outputId": "e76bce46-ecd4-4016-ad25-f80e295c51c0",
        "colab": {
          "base_uri": "https://localhost:8080/",
          "height": 472
        }
      },
      "outputs": [
        {
          "output_type": "display_data",
          "data": {
            "text/plain": [
              "<Figure size 640x480 with 1 Axes>"
            ],
            "image/png": "[encoded data removed]"
          },
          "metadata": {}
        }
      ],
      "source": [
        "fig1 = plt.gcf()\n",
        "plt.plot(history.history['accuracy'])\n",
        "plt.plot(history.history['val_accuracy'])\n",
        "plt.axis(ymin=0.9,ymax=1)\n",
        "plt.grid()\n",
        "plt.title('Model Accuracy')\n",
        "plt.ylabel('Accuracy')\n",
        "plt.xlabel('Epochs')\n",
        "plt.legend(['train', 'validation'])\n",
        "plt.show()"
      ]
    },
    {
      "cell_type": "code",
      "execution_count": 58,
      "id": "395eb5cc",
      "metadata": {
        "id": "395eb5cc",
        "outputId": "3783429c-ede6-40a9-9e1f-b5d66071592e",
        "colab": {
          "base_uri": "https://localhost:8080/",
          "height": 472
        }
      },
      "outputs": [
        {
          "output_type": "display_data",
          "data": {
            "text/plain": [
              "<Figure size 640x480 with 1 Axes>"
            ],
            "image/png": "[encoded data removed]"
          },
          "metadata": {}
        }
      ],
      "source": [
        "fig1 = plt.gcf()\n",
        "plt.plot(history.history['loss'])\n",
        "plt.plot(history.history['val_loss'])\n",
        "plt.axis(ymin=0,ymax=0.4)\n",
        "plt.grid()\n",
        "plt.title('Model Loss')\n",
        "plt.ylabel('Loss')\n",
        "plt.xlabel('Epochs')\n",
        "plt.legend(['train', 'validation'])\n",
        "plt.show()"
      ]
    },
    {
      "cell_type": "markdown",
      "source": [],
      "metadata": {
        "id": "CXqv2Z_oyqYM"
      },
      "id": "CXqv2Z_oyqYM"
    },
    {
      "cell_type": "markdown",
      "id": "308294fa",
      "metadata": {
        "id": "308294fa"
      },
      "source": [
        "### Predict Images "
      ]
    },
    {
      "cell_type": "code",
      "execution_count": 59,
      "id": "38e814f5",
      "metadata": {
        "id": "38e814f5",
        "outputId": "81423bf2-bf1b-44ba-9363-c5abda2540cf",
        "colab": {
          "base_uri": "https://localhost:8080/",
          "height": 234
        }
      },
      "outputs": [
        {
          "output_type": "error",
          "ename": "AttributeError",
          "evalue": "ignored",
          "traceback": [
            "\u001b[0;31m---------------------------------------------------------------------------\u001b[0m",
            "\u001b[0;31mAttributeError\u001b[0m                            Traceback (most recent call last)",
            "\u001b[0;32m<ipython-input-59-7a80c4ecf8f7>\u001b[0m in \u001b[0;36m<cell line: 10>\u001b[0;34m()\u001b[0m\n\u001b[1;32m      8\u001b[0m \u001b[0;31m#Predicting images\u001b[0m\u001b[0;34m\u001b[0m\u001b[0;34m\u001b[0m\u001b[0m\n\u001b[1;32m      9\u001b[0m \u001b[0;34m\u001b[0m\u001b[0m\n\u001b[0;32m---> 10\u001b[0;31m \u001b[0mimg\u001b[0m \u001b[0;34m=\u001b[0m \u001b[0mimage\u001b[0m\u001b[0;34m.\u001b[0m\u001b[0mload_img\u001b[0m\u001b[0;34m(\u001b[0m\u001b[0;34m\"sign_B2.jpg\"\u001b[0m\u001b[0;34m,\u001b[0m \u001b[0mtarget_size\u001b[0m\u001b[0;34m=\u001b[0m\u001b[0;34m(\u001b[0m\u001b[0;36m180\u001b[0m\u001b[0;34m,\u001b[0m \u001b[0;36m180\u001b[0m\u001b[0;34m)\u001b[0m\u001b[0;34m)\u001b[0m\u001b[0;34m\u001b[0m\u001b[0;34m\u001b[0m\u001b[0m\n\u001b[0m\u001b[1;32m     11\u001b[0m \u001b[0mx\u001b[0m \u001b[0;34m=\u001b[0m \u001b[0mimage\u001b[0m\u001b[0;34m.\u001b[0m\u001b[0mimg_to_array\u001b[0m\u001b[0;34m(\u001b[0m\u001b[0mimg\u001b[0m\u001b[0;34m)\u001b[0m\u001b[0;34m\u001b[0m\u001b[0;34m\u001b[0m\u001b[0m\n\u001b[1;32m     12\u001b[0m \u001b[0mplt\u001b[0m\u001b[0;34m.\u001b[0m\u001b[0mimshow\u001b[0m\u001b[0;34m(\u001b[0m\u001b[0mimg\u001b[0m\u001b[0;34m)\u001b[0m\u001b[0;34m\u001b[0m\u001b[0;34m\u001b[0m\u001b[0m\n",
            "\u001b[0;31mAttributeError\u001b[0m: module 'keras.preprocessing.image' has no attribute 'load_img'"
          ]
        }
      ],
      "source": [
        "#Creating a dictionary to map each of the indexes to the corresponding number or letter\n",
        "from keras.preprocessing import image\n",
        "dict = {0:\"A\",1:\"B\",2:\"C\",3:\"D\",4:\"E\",5:\"F\",6:\"G\",7:\"H\",8:\"I\",9:\"J\",10:\"K\",\n",
        "        11:\"L\",12:\"M\",13:\"N\",14:\"O\",15:\"P\",16:\"Q\",17:\"R\",18:\"S\",19:\"T\",20:\"U\",21:\"V\",22:\"W\",23:\"X\",\n",
        "        24:\"Y\",25:\"Z\"}\n",
        "\n",
        "\n",
        "#Predicting images\n",
        "\n",
        "img = image.load_img(\"sign_B2.jpg\", target_size=(180, 180))\n",
        "x = image.img_to_array(img)\n",
        "plt.imshow(img)\n",
        "x = np.expand_dims(x, axis=0)\n",
        "\n",
        "image = np.vstack([x])\n",
        "classes = resnet_model.predict(image, batch_size=64)\n",
        "label = [np.argmax(i) for i in classes]\n",
        "pred_class=[dict[x] for x in label]\n",
        "pred_class"
      ]
    },
    {
      "cell_type": "markdown",
      "id": "434ffe2e",
      "metadata": {
        "id": "434ffe2e"
      },
      "source": [
        "### Evaluating the Model "
      ]
    },
    {
      "cell_type": "markdown",
      "id": "32a4e23a",
      "metadata": {
        "id": "32a4e23a"
      },
      "source": [
        "_Plotting the Confusion Matrix_\n"
      ]
    },
    {
      "cell_type": "code",
      "execution_count": 60,
      "id": "c47bdb42",
      "metadata": {
        "id": "c47bdb42"
      },
      "outputs": [],
      "source": [
        "Y_pred = resnet_model.predict_generator(val_generator)\n",
        "y_pred = np.argmax(Y_pred, axis=1)"
      ]
    },
    {
      "cell_type": "code",
      "execution_count": 61,
      "id": "023e2109",
      "metadata": {
        "id": "023e2109",
        "outputId": "1749e83e-5a96-4b94-b0eb-32d7cab62990",
        "colab": {
          "base_uri": "https://localhost:8080/",
          "height": 234
        }
      },
      "outputs": [
        {
          "output_type": "error",
          "ename": "AttributeError",
          "evalue": "ignored",
          "traceback": [
            "\u001b[0;31m---------------------------------------------------------------------------\u001b[0m",
            "\u001b[0;31mAttributeError\u001b[0m                            Traceback (most recent call last)",
            "\u001b[0;32m<ipython-input-61-bf189799262c>\u001b[0m in \u001b[0;36m<cell line: 1>\u001b[0;34m()\u001b[0m\n\u001b[0;32m----> 1\u001b[0;31m \u001b[0mcf_mat\u001b[0m \u001b[0;34m=\u001b[0m \u001b[0mconfusion_matrix\u001b[0m\u001b[0;34m(\u001b[0m\u001b[0mval_generator\u001b[0m\u001b[0;34m.\u001b[0m\u001b[0mclasses\u001b[0m\u001b[0;34m,\u001b[0m \u001b[0my_pred\u001b[0m\u001b[0;34m)\u001b[0m\u001b[0;34m\u001b[0m\u001b[0;34m\u001b[0m\u001b[0m\n\u001b[0m\u001b[1;32m      2\u001b[0m \u001b[0mcf_mat_normalized\u001b[0m \u001b[0;34m=\u001b[0m \u001b[0mcf_mat\u001b[0m\u001b[0;34m.\u001b[0m\u001b[0mastype\u001b[0m\u001b[0;34m(\u001b[0m\u001b[0;34m'float'\u001b[0m\u001b[0;34m)\u001b[0m \u001b[0;34m/\u001b[0m \u001b[0mcf_mat\u001b[0m\u001b[0;34m.\u001b[0m\u001b[0msum\u001b[0m\u001b[0;34m(\u001b[0m\u001b[0maxis\u001b[0m\u001b[0;34m=\u001b[0m\u001b[0;36m1\u001b[0m\u001b[0;34m)\u001b[0m\u001b[0;34m[\u001b[0m\u001b[0;34m:\u001b[0m\u001b[0;34m,\u001b[0m \u001b[0mnp\u001b[0m\u001b[0;34m.\u001b[0m\u001b[0mnewaxis\u001b[0m\u001b[0;34m]\u001b[0m\u001b[0;34m\u001b[0m\u001b[0;34m\u001b[0m\u001b[0m\n\u001b[1;32m      3\u001b[0m \u001b[0mplt\u001b[0m\u001b[0;34m.\u001b[0m\u001b[0mfigure\u001b[0m\u001b[0;34m(\u001b[0m\u001b[0mfigsize\u001b[0m\u001b[0;34m=\u001b[0m\u001b[0;34m(\u001b[0m\u001b[0;36m7\u001b[0m\u001b[0;34m,\u001b[0m \u001b[0;36m6\u001b[0m\u001b[0;34m)\u001b[0m\u001b[0;34m)\u001b[0m\u001b[0;34m\u001b[0m\u001b[0;34m\u001b[0m\u001b[0m\n\u001b[1;32m      4\u001b[0m \u001b[0msns\u001b[0m\u001b[0;34m.\u001b[0m\u001b[0mheatmap\u001b[0m\u001b[0;34m(\u001b[0m\u001b[0mcf_mat_normalized\u001b[0m\u001b[0;34m,\u001b[0m \u001b[0mcmap\u001b[0m\u001b[0;34m=\u001b[0m\u001b[0;34m\"Blues\"\u001b[0m\u001b[0;34m)\u001b[0m\u001b[0;34m\u001b[0m\u001b[0;34m\u001b[0m\u001b[0m\n\u001b[1;32m      5\u001b[0m \u001b[0mplt\u001b[0m\u001b[0;34m.\u001b[0m\u001b[0mylabel\u001b[0m\u001b[0;34m(\u001b[0m\u001b[0;34m'True label'\u001b[0m\u001b[0;34m)\u001b[0m\u001b[0;34m\u001b[0m\u001b[0;34m\u001b[0m\u001b[0m\n",
            "\u001b[0;31mAttributeError\u001b[0m: 'NumpyArrayIterator' object has no attribute 'classes'"
          ]
        }
      ],
      "source": [
        "cf_mat = confusion_matrix(val_generator.classes, y_pred)\n",
        "cf_mat_normalized = cf_mat.astype('float') / cf_mat.sum(axis=1)[:, np.newaxis]\n",
        "plt.figure(figsize=(7, 6))\n",
        "sns.heatmap(cf_mat_normalized, cmap=\"Blues\")\n",
        "plt.ylabel('True label')\n",
        "plt.xlabel('Predicted label')"
      ]
    },
    {
      "cell_type": "markdown",
      "id": "4afb7574",
      "metadata": {
        "id": "4afb7574"
      },
      "source": [
        "_Printing the Classification Report_"
      ]
    },
    {
      "cell_type": "code",
      "execution_count": 76,
      "id": "90e995c9",
      "metadata": {
        "id": "90e995c9",
        "outputId": "c4d37e5e-cabf-439b-d8d3-3fdd11e372c6",
        "colab": {
          "base_uri": "https://localhost:8080/",
          "height": 165
        }
      },
      "outputs": [
        {
          "output_type": "error",
          "ename": "AttributeError",
          "evalue": "ignored",
          "traceback": [
            "\u001b[0;31m---------------------------------------------------------------------------\u001b[0m",
            "\u001b[0;31mAttributeError\u001b[0m                            Traceback (most recent call last)",
            "\u001b[0;32m<ipython-input-76-e7f464979827>\u001b[0m in \u001b[0;36m<cell line: 1>\u001b[0;34m()\u001b[0m\n\u001b[0;32m----> 1\u001b[0;31m \u001b[0mlabels\u001b[0m \u001b[0;34m=\u001b[0m \u001b[0mval_generator\u001b[0m\u001b[0;34m.\u001b[0m\u001b[0mclasses\u001b[0m\u001b[0;34m\u001b[0m\u001b[0;34m\u001b[0m\u001b[0m\n\u001b[0m",
            "\u001b[0;31mAttributeError\u001b[0m: 'NumpyArrayIterator' object has no attribute 'classes'"
          ]
        }
      ],
      "source": [
        "labels = val_generator.classes"
      ]
    },
    {
      "cell_type": "code",
      "execution_count": 79,
      "id": "3acd7f0b",
      "metadata": {
        "id": "3acd7f0b",
        "outputId": "9273060d-b1e9-4de5-e3ad-3b448d0ce567",
        "colab": {
          "base_uri": "https://localhost:8080/"
        }
      },
      "outputs": [
        {
          "output_type": "stream",
          "name": "stdout",
          "text": [
            "              precision    recall  f1-score   support\n",
            "\n",
            "           0       0.97      0.93      0.95       237\n",
            "           1       0.96      0.90      0.93       207\n",
            "           2       0.99      0.97      0.98       239\n",
            "           3       0.87      0.98      0.92       243\n",
            "           4       0.92      0.94      0.93       193\n",
            "           5       1.00      0.99      1.00       236\n",
            "           6       0.96      0.96      0.96       229\n",
            "           7       0.96      1.00      0.98       205\n",
            "           8       0.93      0.98      0.95       226\n",
            "          10       0.98      0.87      0.92       213\n",
            "          11       0.98      0.91      0.94       257\n",
            "          12       0.86      0.86      0.86       209\n",
            "          13       0.83      0.92      0.87       220\n",
            "          14       0.98      0.97      0.97       229\n",
            "          15       0.99      1.00      0.99       214\n",
            "          16       0.99      1.00      1.00       256\n",
            "          17       0.78      0.94      0.85       257\n",
            "          18       0.96      0.90      0.93       255\n",
            "          19       0.96      0.95      0.96       242\n",
            "          20       0.88      0.81      0.84       223\n",
            "          21       0.95      0.92      0.94       230\n",
            "          22       0.99      0.99      0.99       225\n",
            "          23       1.00      0.89      0.94       236\n",
            "          24       0.97      0.99      0.98       210\n",
            "\n",
            "    accuracy                           0.94      5491\n",
            "   macro avg       0.94      0.94      0.94      5491\n",
            "weighted avg       0.94      0.94      0.94      5491\n",
            "\n"
          ]
        }
      ],
      "source": [
        "print(classification_report(val_labels, y_pred))"
      ]
    },
    {
      "cell_type": "markdown",
      "id": "2dde0352",
      "metadata": {
        "id": "2dde0352"
      },
      "source": [
        "_Evalutation Metrics on Test Set_"
      ]
    },
    {
      "cell_type": "code",
      "execution_count": null,
      "id": "0004472f",
      "metadata": {
        "id": "0004472f"
      },
      "outputs": [],
      "source": [
        "loss, accuracy, f1_score, precision, recall = resnet_model.evaluate(val_ds, verbose=0)"
      ]
    },
    {
      "cell_type": "code",
      "execution_count": null,
      "id": "dfad41d6",
      "metadata": {
        "id": "dfad41d6",
        "outputId": "dae50940-d92b-4bfb-f17f-4608c3be4b3f"
      },
      "outputs": [
        {
          "name": "stdout",
          "output_type": "stream",
          "text": [
            "Test Loss:  4.699 %\n",
            "Test Accuracy:  99.269 %\n",
            "Test Precision:  99.411 %\n",
            "Test Recall:  99.275 %\n",
            "Test F1 Score:  99.342 %\n"
          ]
        }
      ],
      "source": [
        "print(f\"Test Loss: \", round(loss*100, 3), '%')\n",
        "print(f\"Test Accuracy: \", round(accuracy*100, 3), '%')\n",
        "print(f\"Test Precision: \", round(precision*100, 3), '%')\n",
        "print(f\"Test Recall: \",round(recall*100, 3), '%')\n",
        "print(f\"Test F1 Score: \",round(f1_score*100, 3), '%')"
      ]
    }
  ],
  "metadata": {
    "kernelspec": {
      "display_name": "Python 3",
      "language": "python",
      "name": "python3"
    },
    "language_info": {
      "codemirror_mode": {
        "name": "ipython",
        "version": 3
      },
      "file_extension": ".py",
      "mimetype": "text/x-python",
      "name": "python",
      "nbconvert_exporter": "python",
      "pygments_lexer": "ipython3",
      "version": "3.8.8"
    },
    "colab": {
      "provenance": []
    },
    "accelerator": "GPU",
    "gpuClass": "standard"
  },
  "nbformat": 4,
  "nbformat_minor": 5
}